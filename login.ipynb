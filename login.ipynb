{
 "cells": [
  {
   "metadata": {},
   "cell_type": "markdown",
   "source": "",
   "id": "3dbe59cef9db5813"
  },
  {
   "metadata": {
    "ExecuteTime": {
     "end_time": "2025-01-22T13:22:56.229663Z",
     "start_time": "2025-01-22T13:22:27.761897Z"
    }
   },
   "cell_type": "code",
   "source": [
    "from main import main\n",
    "main()"
   ],
   "id": "65cde603bdb02372",
   "outputs": [
    {
     "name": "stdout",
     "output_type": "stream",
     "text": [
      "Trying to create driver\n",
      "Driver created\n",
      "Trying to login\n",
      "Login successful\n"
     ]
    }
   ],
   "execution_count": 10
  },
  {
   "metadata": {},
   "cell_type": "code",
   "outputs": [],
   "execution_count": null,
   "source": "",
   "id": "b9268cdeb88b93d5"
  }
 ],
 "metadata": {
  "kernelspec": {
   "display_name": "Python 3",
   "language": "python",
   "name": "python3"
  },
  "language_info": {
   "codemirror_mode": {
    "name": "ipython",
    "version": 2
   },
   "file_extension": ".py",
   "mimetype": "text/x-python",
   "name": "python",
   "nbconvert_exporter": "python",
   "pygments_lexer": "ipython2",
   "version": "2.7.6"
  }
 },
 "nbformat": 4,
 "nbformat_minor": 5
}
