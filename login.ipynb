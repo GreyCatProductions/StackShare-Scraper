{
 "cells": [
  {
   "metadata": {
    "ExecuteTime": {
     "end_time": "2025-01-29T09:43:36.497804Z",
     "start_time": "2025-01-29T09:43:26.488175Z"
    }
   },
   "cell_type": "code",
   "source": [
    "from driver_factory import createDriver\n",
    "\n",
    "driver = createDriver()"
   ],
   "id": "6be6001c43aca5b7",
   "outputs": [],
   "execution_count": 1
  },
  {
   "metadata": {
    "ExecuteTime": {
     "end_time": "2025-01-29T09:43:41.647265Z",
     "start_time": "2025-01-29T09:43:37.326846Z"
    }
   },
   "cell_type": "code",
   "source": "driver.get(\"https://stackshare.io/twitter/twitter\")",
   "id": "93f76a5c3efb3835",
   "outputs": [],
   "execution_count": 2
  },
  {
   "metadata": {
    "ExecuteTime": {
     "end_time": "2025-01-29T09:43:42.621339Z",
     "start_time": "2025-01-29T09:43:42.319337Z"
    }
   },
   "cell_type": "code",
   "source": [
    "from bs4 import BeautifulSoup\n",
    "\n",
    "html = driver.page_source\n",
    "soup = BeautifulSoup(html, \"html.parser\")\n",
    "application_and_data_text = soup.find(string=\"Utilities\")\n",
    "application_and_data_parent = application_and_data_text.parent.parent.parent"
   ],
   "id": "2172dda1a6807315",
   "outputs": [],
   "execution_count": 3
  },
  {
   "metadata": {
    "ExecuteTime": {
     "end_time": "2025-01-29T09:41:50.470677Z",
     "start_time": "2025-01-29T09:41:50.461670Z"
    }
   },
   "cell_type": "code",
   "source": "application_and_data_framework_container = application_and_data_parent.contents[1]",
   "id": "7f1a4530b45df574",
   "outputs": [],
   "execution_count": 5
  },
  {
   "metadata": {
    "ExecuteTime": {
     "end_time": "2025-01-29T09:41:51.677034Z",
     "start_time": "2025-01-29T09:41:51.667586Z"
    }
   },
   "cell_type": "code",
   "source": [
    "names = []\n",
    "for child in application_and_data_framework_container.contents:\n",
    "    name = child.contents[1].text\n",
    "    names.append(name)"
   ],
   "id": "b7a3d1cb0c0e590d",
   "outputs": [],
   "execution_count": 6
  },
  {
   "metadata": {
    "ExecuteTime": {
     "end_time": "2025-01-29T09:43:44.886844Z",
     "start_time": "2025-01-29T09:43:44.803751Z"
    }
   },
   "cell_type": "code",
   "source": [
    "import os\n",
    "from datetime import datetime\n",
    "from site_data_extractor import process_website\n",
    "\n",
    "success = process_website(driver, os.path.join(os.getcwd(), 'data', datetime.today().strftime('%d-%m-%Y')))"
   ],
   "id": "595cbf58f4940eb6",
   "outputs": [],
   "execution_count": 4
  }
 ],
 "metadata": {
  "kernelspec": {
   "display_name": "Python 3",
   "language": "python",
   "name": "python3"
  },
  "language_info": {
   "codemirror_mode": {
    "name": "ipython",
    "version": 2
   },
   "file_extension": ".py",
   "mimetype": "text/x-python",
   "name": "python",
   "nbconvert_exporter": "python",
   "pygments_lexer": "ipython2",
   "version": "2.7.6"
  }
 },
 "nbformat": 4,
 "nbformat_minor": 5
}
